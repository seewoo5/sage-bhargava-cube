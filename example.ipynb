{
 "cells": [
  {
   "cell_type": "markdown",
   "metadata": {},
   "source": [
    "# Bhargava's cube"
   ]
  },
  {
   "cell_type": "code",
   "execution_count": 1,
   "metadata": {
    "vscode": {
     "languageId": "sage"
    }
   },
   "outputs": [],
   "source": [
    "from bhargava_cube import *"
   ]
  },
  {
   "cell_type": "code",
   "execution_count": 2,
   "metadata": {
    "vscode": {
     "languageId": "sage"
    }
   },
   "outputs": [
    {
     "name": "stdout",
     "output_type": "stream",
     "text": [
      "BhargavaCube(a=1,b=0,c=0,d=0,e=0,f=0,g=0,h=1)\n",
      "1\n",
      "x*y\n"
     ]
    }
   ],
   "source": [
    "# Identity cube for D = 1\n",
    "id1 = BhargavaCube()\n",
    "print(id1)\n",
    "print(id1.discriminant())\n",
    "print(id1.Q(1))"
   ]
  },
  {
   "cell_type": "code",
   "execution_count": 3,
   "metadata": {
    "vscode": {
     "languageId": "sage"
    }
   },
   "outputs": [
    {
     "name": "stdout",
     "output_type": "stream",
     "text": [
      "BhargavaCube(a=1,b=0,c=0,d=2,e=0,f=3,g=4,h=5)\n",
      "121\n",
      "Q1 -2*x^2 + 5*x*y + 12*y^2\n",
      "Q2 -4*x^2 + 5*x*y + 6*y^2\n",
      "Q3 -3*x^2 + 5*x*y + 8*y^2\n",
      "BhargavaCube(a=1,b=0,c=0,d=2,e=0,f=3,g=4,h=-5)\n",
      "Q1_inv -2*x^2 - 5*x*y + 12*y^2\n",
      "Q2_inv -4*x^2 - 5*x*y + 6*y^2\n",
      "Q3_inv -3*x^2 - 5*x*y + 8*y^2\n"
     ]
    }
   ],
   "source": [
    "# Example from Wikipedia\n",
    "cb = BhargavaCube([1, 0, 0, 2, 0, 3, 4, 5])\n",
    "print(cb)\n",
    "print(cb.discriminant())\n",
    "print(\"Q1\", cb.Q(1))\n",
    "print(\"Q2\", cb.Q(2))\n",
    "print(\"Q3\", cb.Q(3))\n",
    "\n",
    "cb_inv = cb.inverse()\n",
    "print(cb_inv)\n",
    "print(\"Q1_inv\", cb_inv.Q(1))\n",
    "print(\"Q2_inv\", cb_inv.Q(2))\n",
    "print(\"Q3_inv\", cb_inv.Q(3))"
   ]
  },
  {
   "cell_type": "code",
   "execution_count": 4,
   "metadata": {
    "vscode": {
     "languageId": "sage"
    }
   },
   "outputs": [
    {
     "name": "stdout",
     "output_type": "stream",
     "text": [
      "BhargavaCube(a=0,b=1,c=1,d=0,e=1,f=0,g=0,h=-1)\n",
      "Q1 x^2 + y^2\n"
     ]
    }
   ],
   "source": [
    "id_m1 = BhargavaCube.id(-4)\n",
    "print(id_m1)\n",
    "print(\"Q1\", id_m1.Q(1))"
   ]
  },
  {
   "cell_type": "code",
   "execution_count": 5,
   "metadata": {
    "vscode": {
     "languageId": "sage"
    }
   },
   "outputs": [
    {
     "name": "stdout",
     "output_type": "stream",
     "text": [
      "Q1 22*x^2 - 18*x*y + 39*y^2\n",
      "Q2 29*x^2 + 16*x*y + 29*y^2\n",
      "Q3 11*x^2 + 4*x*y + 71*y^2\n"
     ]
    }
   ],
   "source": [
    "# More complicated examples\n",
    "D = -4 * 777\n",
    "Cl = BQFClassGroup(D)\n",
    "gens = Cl.gens()\n",
    "Q1 = gens[0].form()\n",
    "Q2 = gens[1].form()\n",
    "c1 = Q1.form_class()\n",
    "c2 = Q2.form_class()\n",
    "c3 = (Q1 * Q2).form_class() * (-1)\n",
    "Q3 = c3.form()\n",
    "print(\"Q1\", Q1)\n",
    "print(\"Q2\", Q2)\n",
    "print(\"Q3\", Q3)\n",
    "\n",
    "# TODO: construct cube from this triple"
   ]
  },
  {
   "cell_type": "code",
   "execution_count": 6,
   "metadata": {
    "vscode": {
     "languageId": "sage"
    }
   },
   "outputs": [
    {
     "name": "stdout",
     "output_type": "stream",
     "text": [
      "BhargavaCube(a=-8,b=-14,c=-20,d=-34,e=-12,f=-21,g=-30,h=-51)\n",
      "BhargavaCube(a=-16,b=-10,c=-36,d=-22,e=-24,f=-15,g=-54,h=-33)\n"
     ]
    }
   ],
   "source": [
    "# SL2(Z)^3 action\n",
    "A = BhargavaCube([1, 2, 3, 4, 1, 2, 3, 4])\n",
    "m1 = matrix([[1, 1], [1, 2]])\n",
    "m2 = matrix([[2, 1], [3, 2]])\n",
    "m3 = matrix([[-1, 0], [0, -1]])\n",
    "print(A.matrices_action_left((m1, m2, m3)))\n",
    "print(A.matrices_action_right((m1, m2, m3)))"
   ]
  }
 ],
 "metadata": {
  "kernelspec": {
   "display_name": "SageMath 10.3",
   "language": "sage",
   "name": "SageMath-10.3"
  },
  "language_info": {
   "codemirror_mode": {
    "name": "ipython",
    "version": 3
   },
   "file_extension": ".py",
   "mimetype": "text/x-python",
   "name": "python",
   "nbconvert_exporter": "python",
   "pygments_lexer": "ipython3",
   "version": "3.11.8"
  }
 },
 "nbformat": 4,
 "nbformat_minor": 2
}
